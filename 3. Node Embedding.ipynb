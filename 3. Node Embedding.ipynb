{
 "cells": [
  {
   "cell_type": "code",
   "execution_count": null,
   "id": "28bb944c",
   "metadata": {},
   "outputs": [],
   "source": [
    "import numpy as np\n",
    "import pandas as pd\n",
    "import tensorflow as tf\n",
    "\n",
    "# Load the follow-followee dataset as a pandas DataFrame\n",
    "df = pd.read_csv(\"user_follower_stacked.csv\")\n",
    "\n",
    "# Create a list of all unique users in the dataset\n",
    "unique_users = list(set(df[\"user_name\"].unique().tolist() + df[\"follower_name\"].unique().tolist()))\n",
    "user_to_index = {user: index for index, user in enumerate(unique_users)}\n",
    "\n",
    "# Create a matrix of binary values representing follow relationships\n",
    "follow_matrix = np.zeros((len(unique_users), len(unique_users)))\n",
    "for index, row in df.iterrows():\n",
    "    follow_matrix[user_to_index[row[\"follower_name\"]], user_to_index[row[\"user_name\"]]] = 1\n",
    "\n",
    "# Define the neural network model\n",
    "model = tf.keras.Sequential([\n",
    "    tf.keras.layers.Dense(128, activation=\"relu\"),\n",
    "    tf.keras.layers.Dense(100, activation=\"relu\"),\n",
    "    tf.keras.layers.Dense(len(unique_users), activation=\"softmax\"),\n",
    "])\n",
    "\n",
    "# Compile the model\n",
    "model.compile(optimizer=\"adam\", loss=\"binary_crossentropy\", metrics=['accuracy'])\n",
    "\n",
    "# Train the model on the follow matrix\n",
    "model.fit(follow_matrix, follow_matrix, epochs=10)\n",
    "\n",
    "\n",
    "\n",
    "# Extract the node embeddings from the trained model\n",
    "node_embeddings = model.layers[-1].get_weights()[0]\n"
   ]
  },
  {
   "cell_type": "code",
   "execution_count": null,
   "id": "c5615f75",
   "metadata": {},
   "outputs": [],
   "source": [
    "node_embeddings \n"
   ]
  },
  {
   "cell_type": "code",
   "execution_count": null,
   "id": "5ce43fb2",
   "metadata": {},
   "outputs": [],
   "source": [
    "len(node_embeddings)"
   ]
  },
  {
   "cell_type": "code",
   "execution_count": null,
   "id": "9f440cd4",
   "metadata": {},
   "outputs": [],
   "source": [
    "# Transpose the embedding matrix\n",
    "node_embeddings = np.transpose(node_embeddings)\n",
    "\n",
    "# Print the transposed embedding matrix\n",
    "print(node_embeddings)\n",
    "len(node_embeddings)"
   ]
  },
  {
   "cell_type": "code",
   "execution_count": null,
   "id": "f3cf9b35",
   "metadata": {},
   "outputs": [],
   "source": [
    "print(node_embeddings)\n",
    "#import numpy as np\n",
    "#node_embeddings = np.load(\"node_embeddings.npy\")\n",
    "np.savetxt(\"node_embeddings.txt\", node_embeddings)"
   ]
  },
  {
   "cell_type": "code",
   "execution_count": null,
   "id": "3ff2b085",
   "metadata": {},
   "outputs": [],
   "source": []
  }
 ],
 "metadata": {
  "kernelspec": {
   "display_name": "Python 3 (ipykernel)",
   "language": "python",
   "name": "python3"
  },
  "language_info": {
   "codemirror_mode": {
    "name": "ipython",
    "version": 3
   },
   "file_extension": ".py",
   "mimetype": "text/x-python",
   "name": "python",
   "nbconvert_exporter": "python",
   "pygments_lexer": "ipython3",
   "version": "3.9.12"
  }
 },
 "nbformat": 4,
 "nbformat_minor": 5
}
