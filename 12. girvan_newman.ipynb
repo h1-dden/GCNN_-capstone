{
 "cells": [
  {
   "cell_type": "code",
   "execution_count": null,
   "id": "5a132c8f",
   "metadata": {},
   "outputs": [],
   "source": [
    "import pandas as pd\n",
    "data = pd.read_csv('user_follower_stacked.csv')\n",
    "data.head()"
   ]
  },
  {
   "cell_type": "code",
   "execution_count": null,
   "id": "9e947788",
   "metadata": {},
   "outputs": [],
   "source": [
    "usernames= data['user_name'].unique()\n",
    "followers = data['follower_name'].unique()\n",
    "\n"
   ]
  },
  {
   "cell_type": "code",
   "execution_count": null,
   "id": "b952cb70",
   "metadata": {},
   "outputs": [],
   "source": [
    "usernames"
   ]
  },
  {
   "cell_type": "code",
   "execution_count": null,
   "id": "7d315714",
   "metadata": {},
   "outputs": [],
   "source": [
    "followers"
   ]
  },
  {
   "cell_type": "code",
   "execution_count": null,
   "id": "45b15b3d",
   "metadata": {},
   "outputs": [],
   "source": [
    "def find_key(key):\n",
    "    if key in followers:\n",
    "        print('True')\n",
    "    else:\n",
    "        print('False')"
   ]
  },
  {
   "cell_type": "code",
   "execution_count": null,
   "id": "876bff95",
   "metadata": {},
   "outputs": [],
   "source": [
    "import numpy as np\n",
    "lists = np.append(usernames,followers)\n",
    "lists = np.unique(lists.tolist())\n",
    "print(lists)"
   ]
  },
  {
   "cell_type": "code",
   "execution_count": null,
   "id": "8abcbb59",
   "metadata": {},
   "outputs": [],
   "source": [
    "dic = {}\n",
    "i=0\n",
    "for user in lists:\n",
    "    dic[user]=i\n",
    "    i+=1"
   ]
  },
  {
   "cell_type": "code",
   "execution_count": null,
   "id": "f6ef3a24",
   "metadata": {},
   "outputs": [],
   "source": [
    "import pandas as pd\n",
    "\n",
    "def find(key):\n",
    "    if key in dic:\n",
    "        return dic[key]\n",
    "\n",
    "# Read the edge list CSV file using pandas\n",
    "edge_list = pd.read_csv('user_follower_stacked.csv')\n",
    "#edge_list.drop(['Unnamed: 0'],inplace=True,axis=1)\n",
    "# Convert edge list to list of tuples\n",
    "edges = edge_list.apply(tuple, axis=1).tolist()\n",
    "\n",
    "\n",
    "list1=[]\n",
    "list2=[]\n",
    "for edge in edges:\n",
    "    list1.append(find(edge[0]))\n",
    "    list2.append(find(edge[1]))\n",
    "\n",
    "data =  list(zip(list1, list2))\n",
    "print(data)\n"
   ]
  },
  {
   "cell_type": "code",
   "execution_count": null,
   "id": "002980ba",
   "metadata": {},
   "outputs": [],
   "source": [
    "import networkx as nx\n",
    "import numpy as np\n",
    "import matplotlib.pyplot as plt\n",
    "from scipy.linalg import fractional_matrix_power\n",
    "\n",
    "import warnings\n",
    "warnings.filterwarnings(\"ignore\", category=UserWarning)\n",
    "\n",
    "\n",
    "#Initialize the graph\n",
    "G = nx.Graph(name='G')\n",
    "\n",
    "#Create nodes\n",
    "#In this example, the graph will consist of 6 nodes.\n",
    "#Each node is assigned node feature which corresponds to the node name\n",
    "for i in range(len(lists)):\n",
    "    G.add_node(i, name=lists[i])\n",
    "#    G.add_node(i, name=i)\n",
    "\n",
    "#s = [1 2 3 3 3 3 4 5 6 7 8 9 9 9 10];\n",
    "#t = [7 6 1 5 6 8 2 4 4 3 7 1 6 8 2];\n",
    "\n",
    "#Define the edges and the edges to the graph\n",
    "#edge = [(1,7),(2,6),(3,1),(3,5),(3,6),(3,8),(4,2),(5,4),(6,4),(7,3),(8,7),(9,1),(9,6),(9,8),(10,2)]\n",
    "G.add_edges_from(data)\n",
    "\n",
    "\n",
    "#See graph info\n",
    "print('Graph Info:\\n')\n",
    "print('Number of nodes', len(G.nodes))\n",
    "print('Number of edges', len(G.edges))\n",
    "print('Average degree', sum(dict(G.degree).values()) / len(G.nodes))\n",
    "\n",
    "#Inspect the node features\n",
    "print('\\nGraph Nodes: ', G.nodes.data())\n",
    "\n",
    "#Plot the graph\n",
    "nx.draw(G, with_labels=True, font_weight='bold')\n",
    "plt.show()"
   ]
  },
  {
   "cell_type": "code",
   "execution_count": null,
   "id": "cc497819",
   "metadata": {},
   "outputs": [],
   "source": [
    "def edge_to_remove(graph):\n",
    "    G_dict = nx.edge_betweenness_centrality(graph)\n",
    "    edge = ()\n",
    "    \n",
    "    for key, value in sorted(G_dict.items(), key = lambda item:item[1], revere= True):\n",
    "        edge = key\n",
    "        break\n",
    "     \n",
    "    \n",
    "    \n",
    "    return edge\n",
    "        \n",
    "    "
   ]
  },
  {
   "cell_type": "code",
   "execution_count": null,
   "id": "38634a8f",
   "metadata": {},
   "outputs": [],
   "source": [
    "def girvan_newman(graph):\n",
    "    sg = nx.connected_components(graph)\n",
    "    sg_count = nx.number_connected_components(graph)\n",
    "    \n",
    "    while(sg_count == 1):\n",
    "        graph.remove_edge(edge_to_remove(graph)[0],edge_to_remove(graph)[1])\n",
    "        sg = connected_components(graph)\n",
    "        sg_count = nx.number_connected_components(graph)\n",
    "     \n",
    "    \n",
    "    return sg"
   ]
  },
  {
   "cell_type": "code",
   "execution_count": null,
   "id": "9917a609",
   "metadata": {},
   "outputs": [],
   "source": [
    "c = girvan_newman(G.copy())\n",
    "node_groups = []\n",
    "\n",
    "for i in c:\n",
    "    node_groups.append(list(i))\n"
   ]
  },
  {
   "cell_type": "code",
   "execution_count": null,
   "id": "478e2a3e",
   "metadata": {},
   "outputs": [],
   "source": [
    "print(node_groups)\n",
    "print(len(node_groups))"
   ]
  },
  {
   "cell_type": "code",
   "execution_count": null,
   "id": "849b5a86",
   "metadata": {},
   "outputs": [],
   "source": []
  }
 ],
 "metadata": {
  "kernelspec": {
   "display_name": "Python 3 (ipykernel)",
   "language": "python",
   "name": "python3"
  },
  "language_info": {
   "codemirror_mode": {
    "name": "ipython",
    "version": 3
   },
   "file_extension": ".py",
   "mimetype": "text/x-python",
   "name": "python",
   "nbconvert_exporter": "python",
   "pygments_lexer": "ipython3",
   "version": "3.10.0"
  }
 },
 "nbformat": 4,
 "nbformat_minor": 5
}
