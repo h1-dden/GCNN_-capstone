{
 "cells": [
  {
   "cell_type": "code",
   "execution_count": null,
   "id": "1cd11a2c",
   "metadata": {},
   "outputs": [],
   "source": [
    "import networkx as nx\n",
    "import numpy as np"
   ]
  },
  {
   "cell_type": "code",
   "execution_count": null,
   "id": "aa48878b",
   "metadata": {},
   "outputs": [],
   "source": [
    "def calculate_internal_density(graph, community):\n",
    "    \n",
    "    subgraph = graph.subgraph(graph)\n",
    "    num_nodes = subgraph.number_of_nodes()\n",
    "    num_edges = subgraph.number_of_edges()\n",
    "    \n",
    "    if num_nodes <= 1:\n",
    "        return 0\n",
    "    \n",
    "    internal_density = 2 * num_edges / (num_nodes * (num_nodes-1))\n",
    "    return internal_density\n"
   ]
  },
  {
   "cell_type": "code",
   "execution_count": null,
   "id": "b657f575",
   "metadata": {},
   "outputs": [],
   "source": [
    "def calculate_external_density(graph, community):\n",
    "    community_subgraph = graph.subgraph(community)\n",
    "    num_internal_edges = community_subgraph.number_of_edges()\n",
    "    num_boundary_edges = nx.edge_boundary(graph,community)\n",
    "    num_nodes = community_subgraph.number_of_nodes()\n",
    "    \n",
    "    if num_nodes == 0 or num_boundary_edges == 0:\n",
    "        return 0\n",
    "    \n",
    "    return len(list(num_boundary_edges)) / (num_nodes * (graph.number_of_nodes() - num_nodes))"
   ]
  },
  {
   "cell_type": "code",
   "execution_count": null,
   "id": "6996fbdc",
   "metadata": {},
   "outputs": [],
   "source": [
    "# Example usage\n",
    "# Create a graph\n",
    "graph = nx.Graph()\n",
    "edge_list = np.loadtxt(\"edge_list_representation.txt\")\n",
    "graph.add_edges_from(edge_list)\n",
    "\n",
    "# Specify a community\n",
    "community = [1, 2]\n",
    "\n",
    "# Calculate internal density\n",
    "internal_density = calculate_internal_density(graph, community)\n",
    "print(\"Internal Density:\", internal_density)\n"
   ]
  },
  {
   "cell_type": "code",
   "execution_count": null,
   "id": "cdb8ecc8",
   "metadata": {},
   "outputs": [],
   "source": [
    "# Calculate external density\n",
    "external_density = calculate_external_density(graph, community)\n",
    "print(\"External Density:\", external_density)"
   ]
  },
  {
   "cell_type": "code",
   "execution_count": null,
   "id": "d28d75b2",
   "metadata": {},
   "outputs": [],
   "source": [
    "#Quality Score of cluster\n",
    "QS = internal_density - external_density\n",
    "print(QS)"
   ]
  },
  {
   "cell_type": "code",
   "execution_count": null,
   "id": "29cc40a5",
   "metadata": {},
   "outputs": [],
   "source": []
  }
 ],
 "metadata": {
  "kernelspec": {
   "display_name": "Python 3 (ipykernel)",
   "language": "python",
   "name": "python3"
  },
  "language_info": {
   "codemirror_mode": {
    "name": "ipython",
    "version": 3
   },
   "file_extension": ".py",
   "mimetype": "text/x-python",
   "name": "python",
   "nbconvert_exporter": "python",
   "pygments_lexer": "ipython3",
   "version": "3.10.0"
  }
 },
 "nbformat": 4,
 "nbformat_minor": 5
}
