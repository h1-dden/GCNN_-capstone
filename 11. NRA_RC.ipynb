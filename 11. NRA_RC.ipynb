{
 "cells": [
  {
   "cell_type": "code",
   "execution_count": null,
   "id": "c21fb518",
   "metadata": {},
   "outputs": [],
   "source": [
    "# Example usage:\n",
    "import numpy as np\n",
    "edge_list = np.loadtxt(\"edge_list_representation.txt\")\n",
    "def edge_list_to_adjacency_list(edges):\n",
    "    adjacency_list = {}\n",
    "\n",
    "    for edge in edges:\n",
    "        vertex1, vertex2 = edge\n",
    "\n",
    "        # Add vertex1 to adjacency list\n",
    "        if vertex1 not in adjacency_list:\n",
    "            adjacency_list[vertex1] = []\n",
    "        adjacency_list[vertex1].append(vertex2)\n",
    "\n",
    "        # Add vertex2 to adjacency list\n",
    "        if vertex2 not in adjacency_list:\n",
    "            adjacency_list[vertex2] = []\n",
    "        adjacency_list[vertex2].append(vertex1)\n",
    "\n",
    "    return adjacency_list\n",
    "\n",
    "adjacency_list = edge_list_to_adjacency_list(edge_list)\n",
    "graph = adjacency_list"
   ]
  },
  {
   "cell_type": "code",
   "execution_count": null,
   "id": "d2881282",
   "metadata": {},
   "outputs": [],
   "source": [
    "\n",
    "\n",
    "feature_representation = np.loadtxt('feature_representation.txt')\n",
    "\n",
    "from sklearn.cluster import KMeans\n",
    "\n",
    "# Assuming 'output' contains the output representations from GCN\n",
    "output = feature_representation\n",
    "\n",
    "#Number of clusters\n",
    "k= 2\n",
    "\n",
    "# Apply K-means clustering\n",
    "kmeans = KMeans(n_clusters=k)\n",
    "clusters = kmeans.fit_predict(output)\n",
    "\n",
    "clustering = {}\n",
    "#Retrive nodes for each cluster\n",
    "for i in range(k):\n",
    "    cluster_nodes = np.where(clusters == i)[0]\n",
    "    clustering[i] = cluster_nodes.tolist()\n",
    "    #print(f\"Nodes in cluster {i}:\",  cluster_nodes)\n",
    "    \n",
    "    \n",
    "def retrieve_clusters_for_nodes(clusters):\n",
    "    node_clusters = {}\n",
    "\n",
    "    for cluster, nodes in clusters.items():\n",
    "        for node in nodes:\n",
    "            node_clusters[node] = cluster\n",
    "\n",
    "    return node_clusters\n",
    "\n",
    "node_clusters = retrieve_clusters_for_nodes(clustering)\n",
    "print(node_clusters)"
   ]
  },
  {
   "cell_type": "code",
   "execution_count": null,
   "id": "5c99a419",
   "metadata": {},
   "outputs": [],
   "source": [
    "communities = node_clusters"
   ]
  },
  {
   "cell_type": "markdown",
   "id": "c7200459",
   "metadata": {},
   "source": [
    "# Ratio Cut"
   ]
  },
  {
   "cell_type": "code",
   "execution_count": null,
   "id": "c2b78ac2",
   "metadata": {},
   "outputs": [],
   "source": [
    "def calculate_ratio_cut(graph, communities):\n",
    "    num_vertices = len(graph)\n",
    "    cut_weight = 0\n",
    "\n",
    "    for vertex, edges in graph.items():\n",
    "        for neighbor in edges:\n",
    "            if communities[vertex] != communities[neighbor]:\n",
    "                cut_weight += 1  # Increment cut weight by 1 for each edge between different communities\n",
    "\n",
    "    ratio_cut = cut_weight / num_vertices\n",
    "\n",
    "    return ratio_cut\n",
    "\n",
    "\n",
    "\n",
    "\n",
    "\n"
   ]
  },
  {
   "cell_type": "code",
   "execution_count": null,
   "id": "5eb4d811",
   "metadata": {},
   "outputs": [],
   "source": [
    "ratio_cut = calculate_ratio_cut(graph, communities)\n",
    "print(\"Ratio Cut:\", ratio_cut)\n"
   ]
  },
  {
   "cell_type": "markdown",
   "id": "7b606a5f",
   "metadata": {},
   "source": [
    "# Negative Ratio Association (NRA) "
   ]
  },
  {
   "cell_type": "code",
   "execution_count": null,
   "id": "6224584d",
   "metadata": {},
   "outputs": [],
   "source": [
    "def calculate_NRA(graph, communities):\n",
    "    num_vertices = len(graph)\n",
    "    cut_weight = 0\n",
    "\n",
    "    for vertex, edges in graph.items():\n",
    "        for neighbor in edges:\n",
    "            if communities[vertex] == communities[neighbor]:\n",
    "                cut_weight += 1  # Increment cut weight by 1 for each edge between different communities\n",
    "\n",
    "    nra = cut_weight / num_vertices\n",
    "\n",
    "    return nra\n",
    "\n",
    "\n",
    "\n",
    "\n",
    "\n"
   ]
  },
  {
   "cell_type": "code",
   "execution_count": null,
   "id": "a3504757",
   "metadata": {},
   "outputs": [],
   "source": [
    "nra = calculate_NRA(graph, communities)\n",
    "print(\"NRA:\", nra)\n"
   ]
  },
  {
   "cell_type": "markdown",
   "id": "3147b686",
   "metadata": {},
   "source": [
    "# Density modularity"
   ]
  },
  {
   "cell_type": "code",
   "execution_count": null,
   "id": "7c802224",
   "metadata": {},
   "outputs": [],
   "source": [
    "D = nra - ratio_cut\n",
    "print(\"Density Modularity:\",D)"
   ]
  },
  {
   "cell_type": "code",
   "execution_count": null,
   "id": "1bc1c517",
   "metadata": {},
   "outputs": [],
   "source": []
  }
 ],
 "metadata": {
  "kernelspec": {
   "display_name": "Python 3 (ipykernel)",
   "language": "python",
   "name": "python3"
  },
  "language_info": {
   "codemirror_mode": {
    "name": "ipython",
    "version": 3
   },
   "file_extension": ".py",
   "mimetype": "text/x-python",
   "name": "python",
   "nbconvert_exporter": "python",
   "pygments_lexer": "ipython3",
   "version": "3.10.0"
  }
 },
 "nbformat": 4,
 "nbformat_minor": 5
}
