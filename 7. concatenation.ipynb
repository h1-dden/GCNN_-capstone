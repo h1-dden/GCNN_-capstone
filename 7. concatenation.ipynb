{
 "cells": [
  {
   "cell_type": "code",
   "execution_count": null,
   "id": "b050bc5a",
   "metadata": {},
   "outputs": [],
   "source": [
    "import numpy as np\n",
    "\n",
    "# Assuming you have two numpy arrays: node_embeddings and text_embeddings\n",
    "# And you want to insert the text embeddings into the node embeddings as a new column called 'text_column'\n",
    "\n",
    "# Load the node embeddings and text embeddings from the text files\n",
    "node_embeddings = np.loadtxt('node_embeddings.txt')\n",
    "text_embeddings = np.loadtxt('lstm_embedding.txt')\n",
    "\n"
   ]
  },
  {
   "cell_type": "code",
   "execution_count": null,
   "id": "c8307285",
   "metadata": {},
   "outputs": [],
   "source": [
    "print(text_embeddings)\n",
    "print(text_embeddings.shape[0])"
   ]
  },
  {
   "cell_type": "code",
   "execution_count": null,
   "id": "b915c3f0",
   "metadata": {},
   "outputs": [],
   "source": [
    "text_embeddings = np.resize(text_embeddings,node_embeddings.shape[0])\n",
    "print(text_embeddings.shape[0])"
   ]
  },
  {
   "cell_type": "code",
   "execution_count": null,
   "id": "7673c4c9",
   "metadata": {},
   "outputs": [],
   "source": [
    "# Create a new column of zeros with the same number of rows as the node embeddings\n",
    "text_column = np.zeros((node_embeddings.shape[0], 1))\n",
    "\n",
    "#text_embeddings = text_embeddings[:node_embeddings.shape[1]]\n",
    "\n",
    "# Insert the text embeddings into the new column\n",
    "text_column[:, 0] = text_embeddings\n",
    "\n",
    "# Pad the text embeddings with zeros to match the size of the node embeddings\n",
    "#if text_embeddings.shape[0] < node_embeddings.shape[1]:\n",
    "#    text_embeddings = np.pad(text_embeddings, ((0, 0), (0, node_embeddings.shape[1] - text_embeddings.shape[0])))\n",
    "# Concatenate the node embeddings and the new column\n",
    "merged_embeddings = np.concatenate((node_embeddings, text_column), axis=1)\n",
    "\n",
    "text_vector = merged_embeddings[:, -text_embeddings.shape[0]:]\n"
   ]
  },
  {
   "cell_type": "code",
   "execution_count": null,
   "id": "4d1a6dfe",
   "metadata": {},
   "outputs": [],
   "source": [
    "print(text_vector)\n",
    "\n",
    "np.savetxt(\"text_vector.txt\", text_vector)"
   ]
  },
  {
   "cell_type": "code",
   "execution_count": null,
   "id": "50b914eb",
   "metadata": {},
   "outputs": [],
   "source": [
    "# determination of  K using elbow method\n",
    "from sklearn.cluster import KMeans\n",
    "import matplotlib.pyplot as plt\n",
    "import numpy as np\n",
    "\n",
    "# Load node embeddings\n",
    "embeddings = np.loadtxt(\"text_vector.txt\")\n",
    "\n",
    "# Define range of k values to test\n",
    "k_values = range(1, 10)\n",
    "\n",
    "# Calculate the sum of squared distances for each value of k\n",
    "sse = []\n",
    "for k in k_values:\n",
    "    kmeans = KMeans(n_clusters=k, init='random')\n",
    "    kmeans.fit(embeddings)\n",
    "    sse.append(kmeans.inertia_)\n",
    "\n",
    "# Plot the results\n",
    "plt.plot(k_values, sse, 'bx-')\n",
    "plt.xlabel('k')\n",
    "plt.ylabel('Sum of squared distances')\n",
    "plt.title('Elbow Method')\n",
    "plt.show()"
   ]
  },
  {
   "cell_type": "code",
   "execution_count": null,
   "id": "771f9f6c",
   "metadata": {},
   "outputs": [],
   "source": [
    "from sklearn.cluster import KMeans\n",
    "from sklearn.metrics import silhouette_score\n",
    "import numpy as np\n",
    "\n",
    "#load node embeddings\n",
    "embeddings=np.loadtxt(\"text_vector.txt\")\n",
    "\n",
    "# X is the data you want to cluster\n",
    "# kmin and kmax define the range of k values you want to consider\n",
    "#X = ...  # your data\n",
    "kmin = 2\n",
    "kmax = 10\n",
    "\n",
    "# Loop over different k values and compute the silhouette score for each\n",
    "best_score = -1\n",
    "best_k = None\n",
    "for k in range(kmin, kmax+1):\n",
    "    kmeans = KMeans(n_clusters=k)\n",
    "    labels = kmeans.fit_predict(embeddings)\n",
    "    score = silhouette_score(embeddings, labels)\n",
    "    print(\"k =\", k, \"silhouette score =\", score)\n",
    "    if score > best_score:\n",
    "        best_score = score\n",
    "        best_k = k\n",
    "\n",
    "print(\"Best k =\", best_k, \"with silhouette score =\", best_score)\n"
   ]
  },
  {
   "cell_type": "code",
   "execution_count": null,
   "id": "4a98d3b6",
   "metadata": {},
   "outputs": [],
   "source": [
    "from sklearn.cluster import KMeans\n",
    "import numpy as np\n",
    "\n",
    "# Load node embeddings\n",
    "embeddings = np.loadtxt(\"text_vector.txt\")\n",
    "\n",
    "# Choose number of clusters (k)\n",
    "k = 2\n",
    "\n",
    "# Initialize the k-means model with k clusters\n",
    "kmeans = KMeans(n_clusters=k, init='random')\n",
    "\n",
    "# Fit the k-means model to the embeddings\n",
    "kmeans.fit(embeddings)\n",
    "\n",
    "# Get the cluster assignments for each node\n",
    "cluster_assignments = kmeans.labels_\n",
    "\n",
    "# Get the centroids of each cluster\n",
    "centroids = kmeans.cluster_centers_"
   ]
  },
  {
   "cell_type": "code",
   "execution_count": null,
   "id": "99337344",
   "metadata": {},
   "outputs": [],
   "source": [
    "centroids"
   ]
  },
  {
   "cell_type": "code",
   "execution_count": null,
   "id": "18e3f26f",
   "metadata": {},
   "outputs": [],
   "source": [
    "from sklearn.cluster import DBSCAN\n",
    "import numpy as np\n",
    "\n",
    "# read node embeddings from a text file\n",
    "embeddings = np.loadtxt('text_vector.txt')\n",
    "\n",
    "# DBSCAN clustering\n",
    "db = DBSCAN(eps=3, min_samples=2).fit(embeddings)\n",
    "\n",
    "# print the cluster labels\n",
    "print(db.labels_)"
   ]
  },
  {
   "cell_type": "code",
   "execution_count": null,
   "id": "00e2ab7c",
   "metadata": {},
   "outputs": [],
   "source": []
  }
 ],
 "metadata": {
  "kernelspec": {
   "display_name": "Python 3 (ipykernel)",
   "language": "python",
   "name": "python3"
  },
  "language_info": {
   "codemirror_mode": {
    "name": "ipython",
    "version": 3
   },
   "file_extension": ".py",
   "mimetype": "text/x-python",
   "name": "python",
   "nbconvert_exporter": "python",
   "pygments_lexer": "ipython3",
   "version": "3.9.12"
  }
 },
 "nbformat": 4,
 "nbformat_minor": 5
}
