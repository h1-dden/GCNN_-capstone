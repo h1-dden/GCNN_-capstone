{
 "cells": [
  {
   "cell_type": "code",
   "execution_count": null,
   "id": "9ea2209a",
   "metadata": {},
   "outputs": [],
   "source": [
    "import numpy as np\n",
    "\n",
    "feature_representation = np.loadtxt('feature_representation.txt')"
   ]
  },
  {
   "cell_type": "code",
   "execution_count": null,
   "id": "cde3ea17",
   "metadata": {},
   "outputs": [],
   "source": [
    "import matplotlib.pyplot as plt\n",
    "from sklearn.cluster import KMeans\n",
    "\n",
    "# Assuming 'output' contains the feature representations\n",
    "output = feature_representation\n",
    "# Initialize an empty list to store the clustering scores\n",
    "scores = []\n",
    "\n",
    "# Vary the number of clusters and calculate the score\n",
    "for num_clusters in range(1, 21):\n",
    "    kmeans = KMeans(n_clusters=num_clusters)\n",
    "    kmeans.fit(output)\n",
    "    scores.append(kmeans.inertia_)\n",
    "\n",
    "# Plot the scores\n",
    "plt.plot(range(1, 21), scores)\n",
    "plt.xlabel('Number of Clusters')\n",
    "plt.ylabel('Clustering Score')\n",
    "plt.title('Elbow Method')\n",
    "plt.show()\n"
   ]
  },
  {
   "cell_type": "code",
   "execution_count": null,
   "id": "da262344",
   "metadata": {},
   "outputs": [],
   "source": [
    "import numpy as np\n",
    "from sklearn.metrics import silhouette_score\n",
    "from sklearn.cluster import KMeans\n",
    "\n",
    "# Assuming 'output' contains the feature representations\n",
    "output = feature_representation\n",
    "# Initialize variables to store the maximum silhouette score and corresponding number of clusters\n",
    "max_score = -1\n",
    "best_num_clusters = -1\n",
    "\n",
    "# Vary the number of clusters and calculate the silhouette score\n",
    "for num_clusters in range(2, 11):\n",
    "    kmeans = KMeans(n_clusters=num_clusters)\n",
    "    labels = kmeans.fit_predict(output)\n",
    "    score = silhouette_score(output, labels)\n",
    "    if score > max_score:\n",
    "        max_score = score\n",
    "        best_num_clusters = num_clusters\n",
    "\n",
    "print(\"Estimated number of clusters:\", best_num_clusters)\n"
   ]
  },
  {
   "cell_type": "code",
   "execution_count": null,
   "id": "41b24f23",
   "metadata": {},
   "outputs": [],
   "source": [
    "from sklearn.cluster import KMeans\n",
    "\n",
    "# Assuming 'output' contains the output representations from GCN\n",
    "output = feature_representation\n",
    "\n",
    "#Number of clusters\n",
    "k= best_num_clusters\n",
    "\n",
    "# Apply K-means clustering\n",
    "kmeans = KMeans(n_clusters=k)\n",
    "clusters = kmeans.fit_predict(output)\n",
    "\n",
    "clustering = {}\n",
    "#Retrive nodes for each cluster\n",
    "for i in range(k):\n",
    "    cluster_nodes = np.where(clusters == i)[0]\n",
    "    clustering[i] = cluster_nodes.tolist()\n",
    "    print(f\"Nodes in cluster {i}:\",  cluster_nodes)\n",
    "    \n",
    "    \n"
   ]
  },
  {
   "cell_type": "code",
   "execution_count": null,
   "id": "9ec608fc",
   "metadata": {},
   "outputs": [],
   "source": [
    "print(clustering)"
   ]
  },
  {
   "cell_type": "code",
   "execution_count": null,
   "id": "243d7d6f",
   "metadata": {},
   "outputs": [],
   "source": [
    "def retrieve_clusters_for_nodes(clusters):\n",
    "    node_clusters = {}\n",
    "\n",
    "    for cluster, nodes in clusters.items():\n",
    "        for node in nodes:\n",
    "            node_clusters[node] = cluster\n",
    "\n",
    "    return node_clusters\n"
   ]
  },
  {
   "cell_type": "code",
   "execution_count": null,
   "id": "bea8e692",
   "metadata": {},
   "outputs": [],
   "source": [
    "node_clusters = retrieve_clusters_for_nodes(clustering)\n",
    "print(node_clusters)"
   ]
  },
  {
   "cell_type": "code",
   "execution_count": null,
   "id": "d6dee257",
   "metadata": {},
   "outputs": [],
   "source": [
    "clusters"
   ]
  },
  {
   "cell_type": "code",
   "execution_count": null,
   "id": "9d478b7a",
   "metadata": {},
   "outputs": [],
   "source": [
    "import random\n",
    "ground_truth_labels = [random.randint(0, k-1) for _ in range(len(feature_representation))]\n"
   ]
  },
  {
   "cell_type": "code",
   "execution_count": null,
   "id": "25b7a531",
   "metadata": {},
   "outputs": [],
   "source": [
    "ground_truth_labels"
   ]
  },
  {
   "cell_type": "code",
   "execution_count": null,
   "id": "933112ac",
   "metadata": {},
   "outputs": [],
   "source": [
    "from sklearn.metrics import normalized_mutual_info_score\n",
    "\n",
    "# Assuming 'ground_truth_labels' contains the true labels and 'predicted_labels' contains the obtained cluster labels\n",
    "predicted_labels = clusters\n",
    "nmi_score = normalized_mutual_info_score(ground_truth_labels, predicted_labels)\n",
    "\n",
    "print(\"NMI score:\", nmi_score)\n"
   ]
  },
  {
   "cell_type": "code",
   "execution_count": null,
   "id": "a1aadf26",
   "metadata": {},
   "outputs": [],
   "source": []
  }
 ],
 "metadata": {
  "kernelspec": {
   "display_name": "Python 3 (ipykernel)",
   "language": "python",
   "name": "python3"
  },
  "language_info": {
   "codemirror_mode": {
    "name": "ipython",
    "version": 3
   },
   "file_extension": ".py",
   "mimetype": "text/x-python",
   "name": "python",
   "nbconvert_exporter": "python",
   "pygments_lexer": "ipython3",
   "version": "3.10.0"
  }
 },
 "nbformat": 4,
 "nbformat_minor": 5
}
